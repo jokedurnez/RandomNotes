{
 "cells": [
  {
   "cell_type": "markdown",
   "metadata": {},
   "source": [
    "# Sample from truncated exponential"
   ]
  },
  {
   "cell_type": "markdown",
   "metadata": {},
   "source": [
    "We want to sample from a truncated exponential based on 3 values: minimum, maximum and average.  Depending on those values, we want to take out the shape parameter $\\lambda$ for the exponential function.  In this notebook, I will mostly write functions and check code to verify our approach is reasonable."
   ]
  },
  {
   "cell_type": "code",
   "execution_count": 2,
   "metadata": {
    "collapsed": true
   },
   "outputs": [],
   "source": [
    "from __future__ import division\n",
    "\n",
    "import numpy as np\n",
    "import seaborn as sns\n",
    "import scipy\n",
    "\n",
    "%matplotlib inline"
   ]
  },
  {
   "cell_type": "markdown",
   "metadata": {},
   "source": [
    "### Define quantile function and sample function from truncated exponential"
   ]
  },
  {
   "cell_type": "code",
   "execution_count": 9,
   "metadata": {
    "collapsed": true
   },
   "outputs": [],
   "source": [
    "def itexp(x,lam,trunc):\n",
    "    i = -np.log(1-x*(1-np.exp(-trunc*lam)))/lam\n",
    "    return i\n",
    "    \n",
    "def rtexp(n,lam,min,max):\n",
    "    trunc = max-min\n",
    "    r = itexp(np.random.uniform(0,1,n),lam,trunc) + min\n",
    "    return r\n",
    "\n",
    "def etexp(lam,min,max,mean):\n",
    "    trunc = max-min\n",
    "    exp = 1/lam-trunc*(np.exp(lam*trunc)-1)**(-1)+min\n",
    "    return exp\n",
    "\n",
    "def diftexp(lam,min,max,mean):\n",
    "    exp = etexp(lam,min,max,mean)\n",
    "    return((exp-mean)**2)"
   ]
  },
  {
   "cell_type": "markdown",
   "metadata": {},
   "source": [
    "### Try new functions and plot histogram"
   ]
  },
  {
   "cell_type": "code",
   "execution_count": 4,
   "metadata": {
    "collapsed": false
   },
   "outputs": [
    {
     "name": "stdout",
     "output_type": "stream",
     "text": [
      "mean of distribution: 4.43513811778\n"
     ]
    },
    {
     "data": {
      "image/png": "[encoded data removed]",
      "text/plain": [
       "<matplotlib.figure.Figure at 0x10d226e90>"
      ]
     },
     "metadata": {},
     "output_type": "display_data"
    }
   ],
   "source": [
    "nsamp = 10000\n",
    "min = 2\n",
    "max = 8\n",
    "lam = 0.2\n",
    "\n",
    "rand_exp = rtexp(nsamp,lam,min,max)\n",
    "\n",
    "sns.distplot(rand_exp)\n",
    "print(\"mean of distribution: \"+str(np.mean(rand_exp)))"
   ]
  },
  {
   "cell_type": "code",
   "execution_count": 11,
   "metadata": {
    "collapsed": false
   },
   "outputs": [
    {
     "data": {
      "text/plain": [
       "array([ 0.19243165])"
      ]
     },
     "execution_count": 11,
     "metadata": {},
     "output_type": "execute_result"
    }
   ],
   "source": [
    "mean = np.mean(rand_exp)\n",
    "\n",
    "opt = scipy.optimize.minimize(diftexp,[1.5],\n",
    "                              args=(min,max,mean,))\n",
    "\n",
    "opt.x"
   ]
  },
  {
   "cell_type": "code",
   "execution_count": null,
   "metadata": {
    "collapsed": true
   },
   "outputs": [],
   "source": []
  }
 ],
 "metadata": {
  "kernelspec": {
   "display_name": "Python 2",
   "language": "python",
   "name": "python2"
  },
  "language_info": {
   "codemirror_mode": {
    "name": "ipython",
    "version": 2
   },
   "file_extension": ".py",
   "mimetype": "text/x-python",
   "name": "python",
   "nbconvert_exporter": "python",
   "pygments_lexer": "ipython2",
   "version": "2.7.9"
  }
 },
 "nbformat": 4,
 "nbformat_minor": 0
}
