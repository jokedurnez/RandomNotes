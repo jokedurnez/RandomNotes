{
 "cells": [
  {
   "cell_type": "code",
   "execution_count": 1,
   "metadata": {
    "collapsed": false
   },
   "outputs": [],
   "source": [
    "from __future__ import division\n",
    "import pandas as pd\n",
    "import numpy as np\n",
    "import matplotlib.pyplot as plt\n",
    "import seaborn as sns\n",
    "from copy import deepcopy\n",
    "from numpy import array as Ar\n",
    "\n",
    "%matplotlib inline\n"
   ]
  },
  {
   "cell_type": "markdown",
   "metadata": {},
   "source": [
    "### Initiate field"
   ]
  },
  {
   "cell_type": "code",
   "execution_count": 2,
   "metadata": {
    "collapsed": false
   },
   "outputs": [
    {
     "data": {
      "text/plain": [
       "<matplotlib.colorbar.Colorbar at 0x11143c890>"
      ]
     },
     "execution_count": 2,
     "metadata": {},
     "output_type": "execute_result"
    },
    {
     "data": {
      "image/png": "[encoded data removed]",
      "text/plain": [
       "<matplotlib.figure.Figure at 0x111214a50>"
      ]
     },
     "metadata": {},
     "output_type": "display_data"
    }
   ],
   "source": [
    "dims = (3,4)\n",
    "field = np.ones(dims)\n",
    "field[1,1] = np.nan\n",
    "plt.imshow(field,interpolation='nearest',cmap='PuOr')\n",
    "plt.colorbar()"
   ]
  },
  {
   "cell_type": "markdown",
   "metadata": {},
   "source": [
    "### Initiate parameters"
   ]
  },
  {
   "cell_type": "code",
   "execution_count": 33,
   "metadata": {
    "collapsed": false
   },
   "outputs": [
    {
     "data": {
      "text/plain": [
       "<matplotlib.colorbar.Colorbar at 0x111f82590>"
      ]
     },
     "execution_count": 33,
     "metadata": {},
     "output_type": "execute_result"
    },
    {
     "data": {
      "image/png": "[encoded data removed]",
      "text/plain": [
       "<matplotlib.figure.Figure at 0x111d1c590>"
      ]
     },
     "metadata": {},
     "output_type": "display_data"
    }
   ],
   "source": [
    "# all possible states (= all coordinates except for (1,1))\n",
    "S = [(x,y) for x in range(dims[0]) for y in range(dims[1]) if not field[(x,y)]==np.nan]\n",
    "\n",
    "# all possible actions (= (E,W,S,N)) (arrays 'cause will only be needed for addition)\n",
    "A = [[0,1],[0,-1],[1,0],[-1,0]]\n",
    "A = [Ar(x) for x in A]\n",
    "\n",
    "# probabilities (here all equal)\n",
    "Psa = Ar([0.25]*4)\n",
    "\n",
    "# cost of step\n",
    "g = 0.9\n",
    "\n",
    "# reward function: everywhere = 0.02, win = 1, loose = -1\n",
    "R = deepcopy(field)*(-0.02)\n",
    "R[0,3] = 1\n",
    "R[1,3] = -1\n",
    "\n",
    "plt.imshow(R,interpolation='nearest',cmap='PuOr')\n",
    "plt.colorbar()"
   ]
  },
  {
   "cell_type": "markdown",
   "metadata": {},
   "source": [
    "### Initiate value function (0 everywhere)"
   ]
  },
  {
   "cell_type": "code",
   "execution_count": 40,
   "metadata": {
    "collapsed": false
   },
   "outputs": [],
   "source": [
    "def get_Psa(s,a): #here pretty easy: states not probabilistic\n",
    "    s_prime = bounce_border(s+a)\n",
    "    Psa = np.zeros(dims)\n",
    "    Psa[s_prime]=1\n",
    "    return Psa\n",
    "\n",
    "def get_reward_for_best_action(s,A,V_est):\n",
    "    future_reward = []\n",
    "    for a in A:\n",
    "        Psa = get_Psa(s,a)\n",
    "        future_reward.append(np.nansum(Psa*V_est))\n",
    "    #which action maximises future reward?\n",
    "    best_action = np.where(future_reward==max(future_reward))[0]\n",
    "    #if multiple lead to same result: random choice\n",
    "    if len(best_action)>1:\n",
    "        best_action = np.random.choice(best_action)\n",
    "    return future_reward[int(best_action)]\n",
    "   "
   ]
  },
  {
   "cell_type": "code",
   "execution_count": 41,
   "metadata": {
    "collapsed": false,
    "scrolled": true
   },
   "outputs": [],
   "source": [
    "V_est = np.zeros([3,4])\n",
    "for iteration in range(100):\n",
    "    # get new value for each state\n",
    "    V_new = np.zeros([3,4])\n",
    "    for s in S:\n",
    "        max_a = get_reward_for_best_action(s,A,V_est)\n",
    "        V_new[s] = R[s]+g*max_a\n",
    "    V_est = deepcopy(V_new)\n",
    "    V_est[0,3] = 1\n",
    "    V_est[1,3] = -1\n"
   ]
  },
  {
   "cell_type": "code",
   "execution_count": 42,
   "metadata": {
    "collapsed": false
   },
   "outputs": [
    {
     "data": {
      "text/plain": [
       "array([[ 0.6748  ,  0.772   ,  0.88    ,  1.      ],\n",
       "       [ 0.58732 ,       nan,  0.772   , -1.      ],\n",
       "       [ 0.508588,  0.58732 ,  0.6748  ,  0.58732 ]])"
      ]
     },
     "execution_count": 42,
     "metadata": {},
     "output_type": "execute_result"
    }
   ],
   "source": [
    "V_est"
   ]
  },
  {
   "cell_type": "markdown",
   "metadata": {},
   "source": [
    "### Define function to get all possible actions given a state"
   ]
  },
  {
   "cell_type": "code",
   "execution_count": 43,
   "metadata": {
    "collapsed": false
   },
   "outputs": [],
   "source": [
    "def bounce_border(s):\n",
    "    s[0] = max(0,s[0])\n",
    "    s[0] = min(2,s[0])\n",
    "    s[1] = max(0,s[1])\n",
    "    s[1] = min(3,s[1])\n",
    "    return tuple(s)\n"
   ]
  },
  {
   "cell_type": "markdown",
   "metadata": {},
   "source": [
    "asdfk;lj"
   ]
  },
  {
   "cell_type": "code",
   "execution_count": 45,
   "metadata": {
    "collapsed": false
   },
   "outputs": [],
   "source": [
    "V_est = np.zeros([3,4])\n",
    "for iteration in range(1000):\n",
    "    # get new value for each state\n",
    "    V_new = np.zeros([3,4])\n",
    "    for s in S:\n",
    "        # for each state: what is the optimal action?\n",
    "        max_a = get_summed_value(s,V_est)\n",
    "        V_new[s] = R[s]+g*max_a\n",
    "    V_est = deepcopy(V_new)\n",
    "    V_est[0,3] = 1\n",
    "    V_est[1,3] = -1\n"
   ]
  },
  {
   "cell_type": "code",
   "execution_count": 47,
   "metadata": {
    "collapsed": false
   },
   "outputs": [
    {
     "data": {
      "text/plain": [
       "array([[-0.06728169,  0.00908854,  0.18747556,  1.        ],\n",
       "       [-0.08466601,         nan, -0.27445052, -1.        ],\n",
       "       [-0.13545678, -0.15756167, -0.31836674, -0.57569549]])"
      ]
     },
     "execution_count": 47,
     "metadata": {},
     "output_type": "execute_result"
    }
   ],
   "source": [
    "V_est"
   ]
  },
  {
   "cell_type": "code",
   "execution_count": 46,
   "metadata": {
    "collapsed": false
   },
   "outputs": [
    {
     "data": {
      "text/plain": [
       "<matplotlib.colorbar.Colorbar at 0x112432d90>"
      ]
     },
     "execution_count": 46,
     "metadata": {},
     "output_type": "execute_result"
    },
    {
     "data": {
      "image/png": "[encoded data removed]",
      "text/plain": [
       "<matplotlib.figure.Figure at 0x111bcd410>"
      ]
     },
     "metadata": {},
     "output_type": "display_data"
    }
   ],
   "source": [
    "plt.imshow(V_est,interpolation='nearest',cmap='PuOr')\n",
    "plt.colorbar()"
   ]
  }
 ],
 "metadata": {
  "kernelspec": {
   "display_name": "Python 2",
   "language": "python",
   "name": "python2"
  },
  "language_info": {
   "codemirror_mode": {
    "name": "ipython",
    "version": 2
   },
   "file_extension": ".py",
   "mimetype": "text/x-python",
   "name": "python",
   "nbconvert_exporter": "python",
   "pygments_lexer": "ipython2",
   "version": "2.7.13"
  }
 },
 "nbformat": 4,
 "nbformat_minor": 2
}
